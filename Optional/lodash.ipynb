{
 "cells": [
  {
   "cell_type": "code",
   "execution_count": 1,
   "metadata": {},
   "outputs": [],
   "source": [
    "var _ = require('lodash');"
   ]
  },
  {
   "cell_type": "code",
   "execution_count": 2,
   "metadata": {},
   "outputs": [
    {
     "name": "stdout",
     "output_type": "stream",
     "text": [
      "hello world\n"
     ]
    }
   ],
   "source": [
    "// simple JavaScript function (review)\n",
    "function printHello() {\n",
    "    console.log('hello world')\n",
    "}\n",
    "printHello()"
   ]
  },
  {
   "cell_type": "code",
   "execution_count": 3,
   "metadata": {},
   "outputs": [
    {
     "data": {
      "text/plain": [
       "3"
      ]
     },
     "execution_count": 3,
     "metadata": {},
     "output_type": "execute_result"
    }
   ],
   "source": [
    "// simple JavaScript function that uses parameters and return values\n",
    "function add(a, b) {\n",
    "    return a + b;\n",
    "}\n",
    "add(1, 2);"
   ]
  },
  {
   "cell_type": "code",
   "execution_count": 4,
   "metadata": {},
   "outputs": [
    {
     "data": {
      "text/plain": [
       "3"
      ]
     },
     "execution_count": 4,
     "metadata": {},
     "output_type": "execute_result"
    }
   ],
   "source": [
    "// simple function expression\n",
    "var add = function (a, b) {\n",
    "    return a + b;\n",
    "}\n",
    "add(1, 2);"
   ]
  },
  {
   "cell_type": "code",
   "execution_count": 5,
   "metadata": {},
   "outputs": [
    {
     "data": {
      "text/plain": [
       "3"
      ]
     },
     "execution_count": 5,
     "metadata": {},
     "output_type": "execute_result"
    }
   ],
   "source": [
    "// simple arrow function (lambda function)\n",
    "var add = (a, b) => a + b;\n",
    "add(1, 2);"
   ]
  },
  {
   "cell_type": "code",
   "execution_count": 7,
   "metadata": {},
   "outputs": [
    {
     "data": {
      "text/plain": [
       "3"
      ]
     },
     "execution_count": 7,
     "metadata": {},
     "output_type": "execute_result"
    }
   ],
   "source": [
    "// higher order function\n",
    "var doMath = (a, b, mathfunc) => mathfunc(a, b);\n",
    "doMath(1, 2, add);"
   ]
  },
  {
   "cell_type": "code",
   "execution_count": 10,
   "metadata": {},
   "outputs": [
    {
     "data": {
      "text/plain": [
       "55"
      ]
     },
     "execution_count": 10,
     "metadata": {},
     "output_type": "execute_result"
    }
   ],
   "source": [
    "// higher order function\n",
    "function add35() {\n",
    "    return (a) => a + 35;\n",
    "}\n",
    "var f = add35()\n",
    "f(20)\n",
    "add35()(20)"
   ]
  },
  {
   "cell_type": "code",
   "execution_count": 11,
   "metadata": {},
   "outputs": [
    {
     "data": {
      "text/plain": [
       "'This is a sentence.'"
      ]
     },
     "execution_count": 11,
     "metadata": {},
     "output_type": "execute_result"
    }
   ],
   "source": [
    "// simple lodash function\n",
    "_.capitalize(\"this is a sentence.\");"
   ]
  },
  {
   "cell_type": "code",
   "execution_count": 12,
   "metadata": {},
   "outputs": [
    {
     "data": {
      "text/plain": [
       "'John Smith'"
      ]
     },
     "execution_count": 12,
     "metadata": {},
     "output_type": "execute_result"
    }
   ],
   "source": [
    "_.startCase(\"john smith\");"
   ]
  },
  {
   "cell_type": "code",
   "execution_count": 15,
   "metadata": {},
   "outputs": [
    {
     "name": "stdout",
     "output_type": "stream",
     "text": [
      "--apple---\n",
      "--banana--\n",
      "--orange--\n"
     ]
    }
   ],
   "source": [
    "console.log(_.pad(\"apple\", 10, '-'));\n",
    "console.log(_.pad(\"banana\", 10, '-'));\n",
    "console.log(_.pad(\"orange\", 10, '-'));"
   ]
  },
  {
   "cell_type": "code",
   "execution_count": 17,
   "metadata": {},
   "outputs": [
    {
     "name": "stdout",
     "output_type": "stream",
     "text": [
      "------1.23\n",
      "-----12.23\n",
      "----100.23\n"
     ]
    }
   ],
   "source": [
    "console.log(_.padStart(\"1.23\", 10, '-'));\n",
    "console.log(_.padStart(\"12.23\", 10, '-'));\n",
    "console.log(_.padStart(\"100.23\", 10, '-'));"
   ]
  },
  {
   "cell_type": "code",
   "execution_count": 19,
   "metadata": {},
   "outputs": [
    {
     "data": {
      "text/plain": [
       "[\n",
       "   0, 10, 20, 30, 40,\n",
       "  50, 60, 70, 80, 90\n",
       "]"
      ]
     },
     "execution_count": 19,
     "metadata": {},
     "output_type": "execute_result"
    }
   ],
   "source": [
    "// a range of values\n",
    "_.range(0, 100, 10);"
   ]
  },
  {
   "cell_type": "code",
   "execution_count": 20,
   "metadata": {},
   "outputs": [
    {
     "data": {
      "text/plain": [
       "123.46"
      ]
     },
     "execution_count": 20,
     "metadata": {},
     "output_type": "execute_result"
    }
   ],
   "source": [
    "// rounding numbers\n",
    "_.round(123.45678, 2);"
   ]
  },
  {
   "cell_type": "code",
   "execution_count": 22,
   "metadata": {},
   "outputs": [
    {
     "data": {
      "text/plain": [
       "[ 'H', 'E', 'L', 'L', 'O' ]"
      ]
     },
     "execution_count": 22,
     "metadata": {},
     "output_type": "execute_result"
    }
   ],
   "source": [
    "var str = \"hello\";\n",
    "_.times(5, (n) => _.capitalize(str[n]));"
   ]
  },
  {
   "cell_type": "code",
   "execution_count": 25,
   "metadata": {},
   "outputs": [
    {
     "data": {
      "text/plain": [
       "[ '1: 2', '2: 4', '3: 6', '4: 8', '5: 10' ]"
      ]
     },
     "execution_count": 25,
     "metadata": {},
     "output_type": "execute_result"
    }
   ],
   "source": [
    "_.map([1, 2, 3, 4, 5], (v, i) => `${i + 1}: ${v * 2}`)"
   ]
  },
  {
   "cell_type": "code",
   "execution_count": 27,
   "metadata": {},
   "outputs": [
    {
     "data": {
      "text/plain": [
       "[ 1, 3, 5 ]"
      ]
     },
     "execution_count": 27,
     "metadata": {},
     "output_type": "execute_result"
    }
   ],
   "source": [
    "_.filter([1, 2, 3, 4, 5], (v, i) => v % 2 != 0);"
   ]
  },
  {
   "cell_type": "code",
   "execution_count": 28,
   "metadata": {},
   "outputs": [
    {
     "data": {
      "text/plain": [
       "15"
      ]
     },
     "execution_count": 28,
     "metadata": {},
     "output_type": "execute_result"
    }
   ],
   "source": [
    "var total = 0;\n",
    "_.reduce([1, 2, 3, 4, 5], (total, v, i) => total += v);"
   ]
  },
  {
   "cell_type": "code",
   "execution_count": 29,
   "metadata": {},
   "outputs": [
    {
     "data": {
      "text/plain": [
       "'hello world'"
      ]
     },
     "execution_count": 29,
     "metadata": {},
     "output_type": "execute_result"
    }
   ],
   "source": [
    "var array = ['hello', 'world'];\n",
    "_.join(array, ' ');"
   ]
  },
  {
   "cell_type": "code",
   "execution_count": 30,
   "metadata": {},
   "outputs": [
    {
     "data": {
      "text/plain": [
       "[ 5, 4, 3, 2, 1 ]"
      ]
     },
     "execution_count": 30,
     "metadata": {},
     "output_type": "execute_result"
    }
   ],
   "source": [
    "var array = [1, 2, 3, 4, 5]\n",
    "_.reverse(array);"
   ]
  },
  {
   "cell_type": "code",
   "execution_count": 31,
   "metadata": {},
   "outputs": [
    {
     "data": {
      "text/plain": [
       "[ 1, 2, 3, 4, 5 ]"
      ]
     },
     "execution_count": 31,
     "metadata": {},
     "output_type": "execute_result"
    }
   ],
   "source": [
    "var array = [3, 5, 1, 2, 4];\n",
    "_.sortBy(array);"
   ]
  },
  {
   "cell_type": "code",
   "execution_count": 32,
   "metadata": {},
   "outputs": [
    {
     "data": {
      "text/plain": [
       "[ 12, 36, 54, 73, 86 ]"
      ]
     },
     "execution_count": 32,
     "metadata": {},
     "output_type": "execute_result"
    }
   ],
   "source": [
    "var grades = {\n",
    "    'Assignment 1': 54,\n",
    "    'Assignment 2': 36,\n",
    "    'Assignment 3': 12,\n",
    "    'Assignment 4': 73,\n",
    "    'Assignment 5': 86\n",
    "}\n",
    "_.sortBy(grades);"
   ]
  },
  {
   "cell_type": "code",
   "execution_count": 37,
   "metadata": {},
   "outputs": [
    {
     "data": {
      "text/plain": [
       "{ 'Assignment 3': 12 }"
      ]
     },
     "execution_count": 37,
     "metadata": {},
     "output_type": "execute_result"
    }
   ],
   "source": [
    "var grades = {\n",
    "    'Assignment 1': 54,\n",
    "    'Assignment 2': 36,\n",
    "    'Assignment 3': 12,\n",
    "    'Assignment 4': 73,\n",
    "    'Assignment 5': 86\n",
    "}\n",
    "var array = _.entries(grades);\n",
    "var minGrade = _.sortBy(array, (v) => v[1])[0];\n",
    "_.fromPairs([minGrade])"
   ]
  },
  {
   "cell_type": "code",
   "execution_count": 38,
   "metadata": {},
   "outputs": [
    {
     "data": {
      "text/plain": [
       "[\n",
       "  { name: 'Assignment 3', grade: 12 },\n",
       "  { name: 'Assignment 2', grade: 36 },\n",
       "  { name: 'Assignment 1', grade: 54 },\n",
       "  { name: 'Assignment 4', grade: 73 },\n",
       "  { name: 'Assignment 5', grade: 86 }\n",
       "]"
      ]
     },
     "execution_count": 38,
     "metadata": {},
     "output_type": "execute_result"
    }
   ],
   "source": [
    "var grades = [\n",
    "    {name: 'Assignment 1', grade: 54},\n",
    "    {name: 'Assignment 2', grade: 36},\n",
    "    {name: 'Assignment 3', grade: 12},\n",
    "    {name: 'Assignment 4', grade: 73},\n",
    "    {name: 'Assignment 5', grade: 86}\n",
    "]\n",
    "_.sortBy(grades, 'grade');"
   ]
  },
  {
   "cell_type": "code",
   "execution_count": 39,
   "metadata": {},
   "outputs": [
    {
     "data": {
      "text/plain": [
       "[ 1, 5, 2, 4, 3 ]"
      ]
     },
     "execution_count": 39,
     "metadata": {},
     "output_type": "execute_result"
    }
   ],
   "source": [
    "var array = [1, 2, 3, 4, 5];\n",
    "_.shuffle(array);"
   ]
  },
  {
   "cell_type": "code",
   "execution_count": 41,
   "metadata": {},
   "outputs": [
    {
     "data": {
      "text/plain": [
       "5"
      ]
     },
     "execution_count": 41,
     "metadata": {},
     "output_type": "execute_result"
    }
   ],
   "source": [
    "var array = [1, 2, 3, 4, 5];\n",
    "_.max(array);\n",
    "Math.max(...array);"
   ]
  },
  {
   "cell_type": "code",
   "execution_count": 42,
   "metadata": {},
   "outputs": [
    {
     "data": {
      "text/plain": [
       "{ id: 'w111111', fname: 'John', lname: 'Appleseed' }"
      ]
     },
     "execution_count": 42,
     "metadata": {},
     "output_type": "execute_result"
    }
   ],
   "source": [
    "var students = [\n",
    "    { id: \"w222222\", fname: \"Jane\", lname: \"Doe\" },\n",
    "    { id: \"w111111\", fname: \"John\", lname: \"Appleseed\" },\n",
    "    { id: \"w333333\", fname: \"Jill\", lname: \"Hill\" }\n",
    "];\n",
    "_.minBy(students, s => s.id);"
   ]
  },
  {
   "cell_type": "code",
   "execution_count": 45,
   "metadata": {},
   "outputs": [
    {
     "data": {
      "text/plain": [
       "[ 10 ]"
      ]
     },
     "execution_count": 45,
     "metadata": {},
     "output_type": "execute_result"
    }
   ],
   "source": [
    "var array = [1, 2, 3, 4, 5];\n",
    "var multiplyBy10 = _.over([(n) => n * 10]);\n",
    "multiplyBy10(...array);\n"
   ]
  },
  {
   "cell_type": "code",
   "execution_count": 47,
   "metadata": {},
   "outputs": [
    {
     "data": {
      "text/plain": [
       "[ 1, 5 ]"
      ]
     },
     "execution_count": 47,
     "metadata": {},
     "output_type": "execute_result"
    }
   ],
   "source": [
    "var array = [1, 2, 3, 4, 5];\n",
    "var findLimits = _.over([Math.min, Math.max]);\n",
    "findLimits(...array);\n"
   ]
  },
  {
   "cell_type": "code",
   "execution_count": null,
   "metadata": {},
   "outputs": [],
   "source": []
  }
 ],
 "metadata": {
  "kernelspec": {
   "display_name": "Javascript (Node.js)",
   "language": "javascript",
   "name": "javascript"
  },
  "language_info": {
   "file_extension": ".js",
   "mimetype": "application/javascript",
   "name": "javascript",
   "version": "16.9.1"
  },
  "orig_nbformat": 4
 },
 "nbformat": 4,
 "nbformat_minor": 2
}
