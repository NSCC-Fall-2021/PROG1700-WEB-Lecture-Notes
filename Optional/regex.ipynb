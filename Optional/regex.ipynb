{
 "cells": [
  {
   "cell_type": "code",
   "execution_count": 4,
   "metadata": {},
   "outputs": [
    {
     "data": {
      "text/plain": [
       "true"
      ]
     },
     "execution_count": 4,
     "metadata": {},
     "output_type": "execute_result"
    }
   ],
   "source": [
    "// test a string to see if it satisfies a regular expression\n",
    "var notARegularExpression = \"abcdefg\";\n",
    "var regularExpression = /abc/;\n",
    "\n",
    "regularExpression.test(notARegularExpression)"
   ]
  },
  {
   "cell_type": "code",
   "execution_count": 10,
   "metadata": {},
   "outputs": [
    {
     "name": "stdout",
     "output_type": "stream",
     "text": [
      "123\n"
     ]
    }
   ],
   "source": [
    "// find first match of a regular expression\n",
    "// and display what it found\n",
    "var str = \"123 address rd, unit 456\";\n",
    "var regex = /\\d+/;\n",
    "\n",
    "if (regex.test(str)) {\n",
    "    console.log(str.match(regex)[0]);\n",
    "}"
   ]
  },
  {
   "cell_type": "code",
   "execution_count": 12,
   "metadata": {},
   "outputs": [
    {
     "data": {
      "text/plain": [
       "[ '123', '456' ]"
      ]
     },
     "execution_count": 12,
     "metadata": {},
     "output_type": "execute_result"
    }
   ],
   "source": [
    "// find all matches using the global option\n",
    "var str = \"123 address rd, unit 456\";\n",
    "var regex = /\\d+/g;\n",
    "\n",
    "str.match(regex)"
   ]
  },
  {
   "cell_type": "code",
   "execution_count": 18,
   "metadata": {},
   "outputs": [
    {
     "data": {
      "text/plain": [
       "[ ', ', ', and ' ]"
      ]
     },
     "execution_count": 18,
     "metadata": {},
     "output_type": "execute_result"
    }
   ],
   "source": [
    "// replacing found text with colons\n",
    "var str = \"some apples, apple pie, and applesauce\";\n",
    "var regexp = /, (and )?/g;\n",
    "\n",
    "str.replace(regexp, ':');"
   ]
  },
  {
   "cell_type": "code",
   "execution_count": null,
   "metadata": {},
   "outputs": [],
   "source": []
  }
 ],
 "metadata": {
  "kernelspec": {
   "display_name": "Javascript (Node.js)",
   "language": "javascript",
   "name": "javascript"
  },
  "language_info": {
   "file_extension": ".js",
   "mimetype": "application/javascript",
   "name": "javascript",
   "version": "16.9.1"
  },
  "orig_nbformat": 4
 },
 "nbformat": 4,
 "nbformat_minor": 2
}
