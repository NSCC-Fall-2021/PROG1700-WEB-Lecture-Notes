{
 "cells": [
  {
   "cell_type": "code",
   "execution_count": 1,
   "metadata": {},
   "outputs": [
    {
     "data": {
      "text/plain": [
       "true"
      ]
     },
     "execution_count": 1,
     "metadata": {},
     "output_type": "execute_result"
    }
   ],
   "source": [
    "true"
   ]
  },
  {
   "cell_type": "code",
   "execution_count": 2,
   "metadata": {},
   "outputs": [
    {
     "data": {
      "text/plain": [
       "false"
      ]
     },
     "execution_count": 2,
     "metadata": {},
     "output_type": "execute_result"
    }
   ],
   "source": [
    "false"
   ]
  },
  {
   "cell_type": "code",
   "execution_count": 3,
   "metadata": {},
   "outputs": [
    {
     "name": "stdout",
     "output_type": "stream",
     "text": [
      "true\n"
     ]
    }
   ],
   "source": [
    "var myBoolean = true\n",
    "console.log(myBoolean)"
   ]
  },
  {
   "cell_type": "code",
   "execution_count": 5,
   "metadata": {},
   "outputs": [],
   "source": [
    "// not a boolean\n",
    "var yesString = \"yes\"\n",
    "var noNumber = 1"
   ]
  },
  {
   "cell_type": "code",
   "execution_count": 11,
   "metadata": {},
   "outputs": [
    {
     "name": "stdout",
     "output_type": "stream",
     "text": [
      "2 > 3 = false\n",
      "2 < 3 = true\n",
      "2 >= 3 = false\n",
      "2 <= 3 = true\n"
     ]
    }
   ],
   "source": [
    "// simple expressions\n",
    "console.log(\"2 > 3 =\", 2 > 3)\n",
    "console.log(\"2 < 3 =\", 2 < 3)\n",
    "console.log(\"2 >= 3 =\", 2 >= 3)\n",
    "console.log(\"2 <= 3 =\", 2 <= 3)"
   ]
  },
  {
   "cell_type": "code",
   "execution_count": 2,
   "metadata": {},
   "outputs": [
    {
     "name": "stdout",
     "output_type": "stream",
     "text": [
      "2 == 3 = false\n",
      "2 === 3 = false\n",
      "3 == '3' = true\n",
      "3 === '3' = false\n",
      "3 === '3' = false\n",
      "'3' === '3' = true\n"
     ]
    }
   ],
   "source": [
    "// simple equal comparisons\n",
    "console.log(\"2 == 3 =\", 2 == 3)\n",
    "console.log(\"2 === 3 =\", 2 === 3)\n",
    "console.log(\"3 == '3' =\", 3 == \"3\")\n",
    "console.log(\"3 === '3' =\", 3 === \"3\")\n",
    "console.log(\"3 === '3' =\", 3 === \"3\")\n",
    "console.log(\"'3' === '3' =\", \"3\" === \"3\")\n"
   ]
  },
  {
   "cell_type": "code",
   "execution_count": 17,
   "metadata": {},
   "outputs": [
    {
     "data": {
      "text/plain": [
       "false"
      ]
     },
     "execution_count": 17,
     "metadata": {},
     "output_type": "execute_result"
    }
   ],
   "source": [
    "// not a comparison\n",
    "var two = 3\n",
    "two = 5\n",
    "two == 3"
   ]
  },
  {
   "cell_type": "code",
   "execution_count": 13,
   "metadata": {},
   "outputs": [
    {
     "name": "stdout",
     "output_type": "stream",
     "text": [
      "false\n",
      "true\n",
      "false\n",
      "false\n",
      "false\n",
      "true\n",
      "false\n",
      "true\n"
     ]
    }
   ],
   "source": [
    "// comparing variables\n",
    "var number1 = 3\n",
    "var number2 = 6\n",
    "\n",
    "// numeric comparison\n",
    "console.log(number1 === number2)\n",
    "console.log(number1 <= number2)\n",
    "console.log(!(number1 !== number2))\n",
    "\n",
    "// floating comparison\n",
    "// caution: be careful comparing floating point values\n",
    "// as you might not get what you expect\n",
    "var float1 = 1.2345\n",
    "var float2 = 3.14159\n",
    "console.log(float1 === float2)\n",
    "console.log(float2 === Math.PI)\n",
    "console.log(1.00000000000001 === (1 + 0.00000000000001))\n",
    "\n",
    "// string comparison\n",
    "var string1 = \"abc\"\n",
    "var string2 = \"abd\"\n",
    "console.log(string1 === string2)\n",
    "console.log(string1 < string2)"
   ]
  },
  {
   "cell_type": "code",
   "execution_count": 16,
   "metadata": {},
   "outputs": [
    {
     "name": "stdout",
     "output_type": "stream",
     "text": [
      "Yes! 2 < 3!\n"
     ]
    }
   ],
   "source": [
    "// a simple decision\n",
    "if (2 < 3) {\n",
    "    console.log(\"Yes! 2 < 3!\")\n",
    "}"
   ]
  },
  {
   "cell_type": "code",
   "execution_count": 17,
   "metadata": {},
   "outputs": [
    {
     "name": "stdout",
     "output_type": "stream",
     "text": [
      "Hi! Bob!\n"
     ]
    }
   ],
   "source": [
    "// decision using variables\n",
    "var name = \"Bob\"\n",
    "if (name === \"Bob\") {\n",
    "    console.log(\"Hi! Bob!\")\n",
    "}"
   ]
  },
  {
   "cell_type": "code",
   "execution_count": 28,
   "metadata": {},
   "outputs": [
    {
     "name": "stdout",
     "output_type": "stream",
     "text": [
      "Hi! Bob!\n",
      "Hi! Bob!\n",
      "Hi! Bob!\n"
     ]
    }
   ],
   "source": [
    "// different formatting\n",
    "var name = \"Bob\"\n",
    "if( name === \"Bob\" ) console.log(\"Hi! Bob!\")\n",
    "\n",
    "// bad formatting\n",
    "if (name ===    \"Bob\" ) \n",
    "{       \n",
    "console.log(\"Hi! Bob!\") \n",
    "    }\n",
    "\n",
    "// good formatting\n",
    "if (name === \"Bob\") { // watch the position of \"whitespace\"\n",
    "    console.log(\"Hi! Bob!\") // indented 4 spaces\n",
    "}\n"
   ]
  },
  {
   "cell_type": "code",
   "execution_count": 27,
   "metadata": {},
   "outputs": [
    {
     "name": "stdout",
     "output_type": "stream",
     "text": [
      "1 != 2\n"
     ]
    }
   ],
   "source": [
    "// if - else statement\n",
    "var number1 = 1\n",
    "if (number1 === 2)\n",
    "    console.log(\"1 = 2!\")\n",
    "else\n",
    "    console.log(\"1 != 2\")"
   ]
  },
  {
   "cell_type": "code",
   "execution_count": 25,
   "metadata": {},
   "outputs": [
    {
     "name": "stdout",
     "output_type": "stream",
     "text": [
      "Welcome, user!\n"
     ]
    }
   ],
   "source": [
    "// nested if statements\n",
    "var code = \"superAdministrat0r\"\n",
    "if (code === \"P@ssw0rd\") {\n",
    "    console.log(\"Welcome, user!\")\n",
    "} else {\n",
    "    if (code === \"admin1strator\") {\n",
    "        console.log(\"Welcome, lord!\")\n",
    "    } else {\n",
    "        if (code === \"superAdministrat0r\") {\n",
    "            console.log(\"All hail!\")\n",
    "        }\n",
    "    }\n",
    "}"
   ]
  },
  {
   "cell_type": "code",
   "execution_count": null,
   "metadata": {},
   "outputs": [],
   "source": [
    "// nested if statements\n",
    "var code = \"superAdministrat0r\"\n",
    "if (code === \"P@ssw0rd\") {\n",
    "    console.log(\"Welcome, user!\")\n",
    "} else if (code === \"admin1strator\") {\n",
    "    console.log(\"Welcome, lord!\")\n",
    "} else if (code === \"superAdministrat0r\") {\n",
    "    console.log(\"All hail!\")\n",
    "} else {\n",
    "    console.log(\"Login failed.\")\n",
    "}"
   ]
  },
  {
   "cell_type": "code",
   "execution_count": 34,
   "metadata": {},
   "outputs": [
    {
     "name": "stdout",
     "output_type": "stream",
     "text": [
      "AND!\n",
      "OR!\n"
     ]
    }
   ],
   "source": [
    "// compound if statement\n",
    "var number1 = 123\n",
    "var name = \"John\"\n",
    "if (number1 === 123 && name === \"John\") {\n",
    "    console.log(\"AND!\")\n",
    "}\n",
    "if (number1 === 123 || name === \"John\") {\n",
    "    console.log(\"OR!\")\n",
    "}"
   ]
  },
  {
   "cell_type": "code",
   "execution_count": 37,
   "metadata": {},
   "outputs": [
    {
     "name": "stdout",
     "output_type": "stream",
     "text": [
      "Wow...that's long!\n"
     ]
    }
   ],
   "source": [
    "// a rather long example\n",
    "var number1 = 123\n",
    "var boolean1 = false\n",
    "var string1 = \"password\"\n",
    "var float1 = 3.1\n",
    "var character1 = 'x'\n",
    "if ((number1 === 123 && boolean1 === false) || \n",
    "    (string1 === \"password\" && float1 === 3.1 && character1 === 'x')) {\n",
    "    console.log(\"Wow...that's long!\")\n",
    "}"
   ]
  },
  {
   "cell_type": "markdown",
   "metadata": {},
   "source": [
    "__Brain Warmup!__  \n",
    "Create a program that will allow the user to enter in two primary colours and then output the mix of the two colours.  \n",
    "e.g. red + yellow = orange, blue + red = violet"
   ]
  },
  {
   "cell_type": "code",
   "execution_count": null,
   "metadata": {},
   "outputs": [],
   "source": []
  }
 ],
 "metadata": {
  "kernelspec": {
   "display_name": "Javascript (Node.js)",
   "language": "javascript",
   "name": "javascript"
  },
  "language_info": {
   "file_extension": ".js",
   "mimetype": "application/javascript",
   "name": "javascript",
   "version": "16.9.1"
  },
  "orig_nbformat": 4
 },
 "nbformat": 4,
 "nbformat_minor": 2
}
