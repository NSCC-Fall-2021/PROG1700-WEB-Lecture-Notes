{
 "cells": [
  {
   "cell_type": "code",
   "execution_count": 3,
   "metadata": {},
   "outputs": [
    {
     "name": "stdout",
     "output_type": "stream",
     "text": [
      "Hello World!\n",
      "Hello World!\n"
     ]
    }
   ],
   "source": [
    "// simple function\n",
    "function printHelloWorld() {\n",
    "    console.log(\"Hello World!\");\n",
    "}\n",
    "printHelloWorld();\n",
    "printHelloWorld();"
   ]
  },
  {
   "cell_type": "code",
   "execution_count": 6,
   "metadata": {},
   "outputs": [
    {
     "name": "stdout",
     "output_type": "stream",
     "text": [
      "Hello, World!\n"
     ]
    }
   ],
   "source": [
    "// parameters\n",
    "function helloWord( greeting, word ) {\n",
    "    word = word + \"!\"\n",
    "    console.log(`${greeting}, ${word}`);\n",
    "}\n",
    "helloWord( \"Hello\", \"World\" );"
   ]
  },
  {
   "cell_type": "code",
   "execution_count": 1,
   "metadata": {},
   "outputs": [
    {
     "name": "stdout",
     "output_type": "stream",
     "text": [
      "3\n"
     ]
    }
   ],
   "source": [
    "// return values\n",
    "function sum( a, b ) {\n",
    "    var c = a + b;\n",
    "    return c;\n",
    "}\n",
    "var answer = sum( 1, 2 )\n",
    "console.log(answer);"
   ]
  },
  {
   "cell_type": "code",
   "execution_count": 8,
   "metadata": {},
   "outputs": [
    {
     "name": "stdout",
     "output_type": "stream",
     "text": [
      "sum = undefined, diff = undefined, product = undefined, div = undefined\n",
      "sum = 3, diff = -1, product = 2, div = 0.5\n",
      "sum = 5, product = 6\n"
     ]
    }
   ],
   "source": [
    "// return multiple values via objects\n",
    "function doMath( a, b ) {\n",
    "\tvar sum = a + b\n",
    "\tvar diff = a - b\n",
    "\tvar prod = a * b\n",
    "\tvar div = a / b\n",
    "\treturn {sum: sum, diff: diff, prod: prod, div: div}\n",
    "}\n",
    "var {s, d, p, d} = doMath( 1, 2 )\n",
    "console.log(`sum = ${s}, diff = ${d}, product = ${p}, div = ${d}`)\n",
    "var {sum, diff, prod, div} = doMath( 1, 2 )\n",
    "console.log(`sum = ${sum}, diff = ${diff}, product = ${prod}, div = ${div}`)\n",
    "var {sum, prod} = doMath( 2, 3 )\n",
    "console.log(`sum = ${sum}, product = ${prod}`)"
   ]
  },
  {
   "cell_type": "code",
   "execution_count": 11,
   "metadata": {},
   "outputs": [
    {
     "data": {
      "text/plain": [
       "25"
      ]
     },
     "execution_count": 11,
     "metadata": {},
     "output_type": "execute_result"
    }
   ],
   "source": [
    "// function expressions\n",
    "var square = function (number) {\n",
    "\treturn number * number;\n",
    "}\n",
    "var answer = square(5);\n",
    "answer"
   ]
  },
  {
   "cell_type": "code",
   "execution_count": null,
   "metadata": {},
   "outputs": [],
   "source": [
    "// don't do this\n",
    "\n",
    "function printInfinity() {\n",
    "\n",
    "    console.log(\"Hello\");\n",
    "\n",
    "    printInfinity();\n",
    "\n",
    "}\n",
    "\n",
    "printInfinity();"
   ]
  },
  {
   "cell_type": "code",
   "execution_count": 2,
   "metadata": {},
   "outputs": [
    {
     "name": "stdout",
     "output_type": "stream",
     "text": [
      "[ 1, 2, 3, 4, 5 ]\n"
     ]
    },
    {
     "data": {
      "text/plain": [
       "'[1,2,3,4,5]'"
      ]
     },
     "execution_count": 2,
     "metadata": {},
     "output_type": "execute_result"
    }
   ],
   "source": [
    "var array = [1, 2, 3, 4, 5]\n",
    "console.log(array)\n",
    "var str = JSON.stringify(array)\n",
    "str"
   ]
  },
  {
   "cell_type": "code",
   "execution_count": null,
   "metadata": {},
   "outputs": [],
   "source": []
  }
 ],
 "metadata": {
  "kernelspec": {
   "display_name": "Javascript (Node.js)",
   "language": "javascript",
   "name": "javascript"
  },
  "language_info": {
   "file_extension": ".js",
   "mimetype": "application/javascript",
   "name": "javascript",
   "version": "16.9.1"
  },
  "orig_nbformat": 4
 },
 "nbformat": 4,
 "nbformat_minor": 2
}
