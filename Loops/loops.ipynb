{
 "cells": [
  {
   "cell_type": "code",
   "execution_count": 4,
   "metadata": {},
   "outputs": [],
   "source": [
    "var num = 10\n",
    "while (num < 10) {\n",
    "    console.log(num)\n",
    "    num = num + 1\n",
    "}"
   ]
  },
  {
   "cell_type": "code",
   "execution_count": null,
   "metadata": {},
   "outputs": [],
   "source": [
    "// ask a user for their password\n",
    "var password = \"\"\n",
    "while (password === \"\") {\n",
    "    password = prompt(\"Enter a password: \")\n",
    "}\n",
    "console.log(\"Yeah! You finally typed it in!\")"
   ]
  },
  {
   "cell_type": "code",
   "execution_count": null,
   "metadata": {},
   "outputs": [],
   "source": [
    "// ask the user to type in numbers until they are done\n",
    "var num = 0\n",
    "var end = \"\"\n",
    "while (end != \"Y\") {\n",
    "    num = prompt(\"Enter a number: \")\n",
    "    end = prompt(\"Enter 'Y' to end.\")\n",
    "}"
   ]
  }
 ],
 "metadata": {
  "kernelspec": {
   "display_name": "Javascript (Node.js)",
   "language": "javascript",
   "name": "javascript"
  },
  "language_info": {
   "file_extension": ".js",
   "mimetype": "application/javascript",
   "name": "javascript",
   "version": "16.9.1"
  },
  "orig_nbformat": 4
 },
 "nbformat": 4,
 "nbformat_minor": 2
}
