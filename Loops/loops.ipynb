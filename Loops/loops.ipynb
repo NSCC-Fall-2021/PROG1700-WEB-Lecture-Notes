{
 "cells": [
  {
   "cell_type": "code",
   "execution_count": 4,
   "metadata": {},
   "outputs": [],
   "source": [
    "var num = 10\n",
    "while (num < 10) {\n",
    "    console.log(num)\n",
    "    num = num + 1\n",
    "}"
   ]
  },
  {
   "cell_type": "code",
   "execution_count": null,
   "metadata": {},
   "outputs": [],
   "source": [
    "// ask a user for their password\n",
    "var password = \"\"\n",
    "while (password === \"\") {\n",
    "    password = prompt(\"Enter a password: \")\n",
    "}\n",
    "console.log(\"Yeah! You finally typed it in!\")"
   ]
  },
  {
   "cell_type": "code",
   "execution_count": null,
   "metadata": {},
   "outputs": [],
   "source": [
    "// ask the user to type in numbers until they are done\n",
    "var num = 0\n",
    "var end = \"\"\n",
    "while (end != \"Y\") {\n",
    "    num = prompt(\"Enter a number: \")\n",
    "    end = prompt(\"Enter 'Y' to end.\")\n",
    "}"
   ]
  },
  {
   "cell_type": "code",
   "execution_count": 6,
   "metadata": {},
   "outputs": [
    {
     "name": "stdout",
     "output_type": "stream",
     "text": [
      "global\n",
      "local\n"
     ]
    }
   ],
   "source": [
    "// variable scope\n",
    "var globalVariable = \"global\"\n",
    "if (globalVariable === \"global\") {\n",
    "    var localVariable = \"local\"\n",
    "}\n",
    "\n",
    "console.log(globalVariable)\n",
    "console.log(localVariable)"
   ]
  },
  {
   "cell_type": "code",
   "execution_count": 7,
   "metadata": {},
   "outputs": [
    {
     "ename": "SyntaxError",
     "evalue": "Identifier 'num' has already been declared",
     "output_type": "error",
     "traceback": [
      "evalmachine.<anonymous>:5",
      "let num = 2",
      "    ^",
      "",
      "SyntaxError: Identifier 'num' has already been declared",
      "    at new Script (node:vm:100:7)",
      "    at createScript (node:vm:257:10)",
      "    at Object.runInThisContext (node:vm:305:10)",
      "    at run ([eval]:1054:15)",
      "    at onRunRequest ([eval]:888:18)",
      "    at onMessage ([eval]:848:13)",
      "    at process.emit (node:events:394:28)",
      "    at emit (node:internal/child_process:917:12)",
      "    at processTicksAndRejections (node:internal/process/task_queues:84:21)"
     ]
    }
   ],
   "source": [
    "// other ways to declare variables\n",
    "var name = \"john\"\n",
    "var num = 1\n",
    "var PI = 3.14159\n",
    "let num = 2\n",
    "const PI = 3.14159"
   ]
  },
  {
   "cell_type": "code",
   "execution_count": 9,
   "metadata": {},
   "outputs": [
    {
     "ename": "SyntaxError",
     "evalue": "Identifier 'name' has already been declared",
     "output_type": "error",
     "traceback": [
      "evalmachine.<anonymous>:1",
      "let name = \"john\"",
      "^",
      "",
      "SyntaxError: Identifier 'name' has already been declared",
      "    at Script.runInThisContext (node:vm:129:12)",
      "    at Object.runInThisContext (node:vm:305:38)",
      "    at run ([eval]:1054:15)",
      "    at onRunRequest ([eval]:888:18)",
      "    at onMessage ([eval]:848:13)",
      "    at process.emit (node:events:394:28)",
      "    at emit (node:internal/child_process:917:12)",
      "    at processTicksAndRejections (node:internal/process/task_queues:84:21)"
     ]
    }
   ],
   "source": [
    "let name = \"john\"\n",
    "console.log(name)"
   ]
  },
  {
   "cell_type": "code",
   "execution_count": 10,
   "metadata": {},
   "outputs": [
    {
     "name": "stdout",
     "output_type": "stream",
     "text": [
      "0\n",
      "1\n",
      "2\n",
      "3\n",
      "4\n"
     ]
    }
   ],
   "source": [
    "// for loop\n",
    "for (var num = 0; num < 5; num = num + 1) {\n",
    "    console.log(num)\n",
    "}"
   ]
  },
  {
   "cell_type": "code",
   "execution_count": 11,
   "metadata": {},
   "outputs": [
    {
     "name": "stdout",
     "output_type": "stream",
     "text": [
      "0\n",
      "1\n",
      "2\n",
      "3\n",
      "4\n"
     ]
    }
   ],
   "source": [
    "for (var num = 0; num < 5; num += 1) {\n",
    "    console.log(num)\n",
    "}"
   ]
  },
  {
   "cell_type": "code",
   "execution_count": 12,
   "metadata": {},
   "outputs": [
    {
     "name": "stdout",
     "output_type": "stream",
     "text": [
      "0\n",
      "1\n",
      "2\n",
      "3\n",
      "4\n"
     ]
    }
   ],
   "source": [
    "for (i = 0; i < 5; i++) {\n",
    "    console.log(i)\n",
    "}"
   ]
  },
  {
   "cell_type": "code",
   "execution_count": 13,
   "metadata": {},
   "outputs": [
    {
     "data": {
      "text/plain": [
       "12345"
      ]
     },
     "execution_count": 13,
     "metadata": {},
     "output_type": "execute_result"
    }
   ],
   "source": [
    "newNumber = 12345"
   ]
  },
  {
   "cell_type": "code",
   "execution_count": 18,
   "metadata": {},
   "outputs": [
    {
     "name": "stdout",
     "output_type": "stream",
     "text": [
      "3\n",
      "4\n"
     ]
    }
   ],
   "source": [
    "for (i = 3; i < 5; i++) {\n",
    "    console.log(i)\n",
    "}"
   ]
  },
  {
   "cell_type": "code",
   "execution_count": 20,
   "metadata": {},
   "outputs": [
    {
     "name": "stdout",
     "output_type": "stream",
     "text": [
      "1\n",
      "2\n",
      "4\n",
      "8\n",
      "16\n"
     ]
    }
   ],
   "source": [
    "for (var num = 1; num <= 16; num *= 2) {\n",
    "\tconsole.log(num)\n",
    "}"
   ]
  },
  {
   "cell_type": "code",
   "execution_count": 21,
   "metadata": {},
   "outputs": [
    {
     "name": "stdout",
     "output_type": "stream",
     "text": [
      "1\n",
      "2\n"
     ]
    }
   ],
   "source": [
    "// break exits the loop early\n",
    "var num = 0\n",
    "while (num < 5) {\n",
    "    if (++num === 3) {\n",
    "        break\n",
    "    }\n",
    "    console.log(num)\n",
    "}"
   ]
  },
  {
   "cell_type": "code",
   "execution_count": 22,
   "metadata": {},
   "outputs": [
    {
     "name": "stdout",
     "output_type": "stream",
     "text": [
      "1\n",
      "2\n",
      "4\n",
      "5\n"
     ]
    }
   ],
   "source": [
    "// continue restarts the loop early\n",
    "var num = 0\n",
    "while (num < 5) {\n",
    "    if (++num === 3) {\n",
    "        continue\n",
    "    }\n",
    "    console.log(num)\n",
    "}"
   ]
  },
  {
   "cell_type": "code",
   "execution_count": 29,
   "metadata": {},
   "outputs": [
    {
     "name": "stdout",
     "output_type": "stream",
     "text": [
      "     o\n",
      "    oo\n",
      "   ooo\n",
      "  oooo\n",
      " ooooo\n",
      "oooooo\n"
     ]
    }
   ],
   "source": [
    "// crappy graphics example\n",
    "// draw a right-angle triangle\n",
    "\n",
    "//      o\n",
    "//     oo\n",
    "//    ooo\n",
    "//   oooo\n",
    "//  ooooo\n",
    "// oooooo\n",
    "\n",
    "for (var i = 1; i <= 6; i++) {\n",
    "    console.log(\" \".repeat(6 - i) + \"o\".repeat(i))\n",
    "}"
   ]
  },
  {
   "cell_type": "code",
   "execution_count": null,
   "metadata": {},
   "outputs": [],
   "source": []
  }
 ],
 "metadata": {
  "kernelspec": {
   "display_name": "Javascript (Node.js)",
   "language": "javascript",
   "name": "javascript"
  },
  "language_info": {
   "file_extension": ".js",
   "mimetype": "application/javascript",
   "name": "javascript",
   "version": "16.9.1"
  },
  "orig_nbformat": 4
 },
 "nbformat": 4,
 "nbformat_minor": 2
}
